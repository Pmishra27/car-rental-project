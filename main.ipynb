{
 "cells": [
  {
   "cell_type": "code",
   "execution_count": null,
   "id": "2bcde697",
   "metadata": {},
   "outputs": [
    {
     "name": "stdout",
     "output_type": "stream",
     "text": [
      "\n",
      "Options:\n",
      "1. View available cars\n",
      "2. Rent cars\n",
      "3. Return cars\n",
      "4. Exit\n",
      "Available cars: 10\n",
      "\n",
      "Options:\n",
      "1. View available cars\n",
      "2. Rent cars\n",
      "3. Return cars\n",
      "4. Exit\n",
      "Invalid rental mode.\n",
      "Rental failed. Check availability or mode.\n",
      "\n",
      "Options:\n",
      "1. View available cars\n",
      "2. Rent cars\n",
      "3. Return cars\n",
      "4. Exit\n",
      "No cars to return.\n",
      "\n",
      "Options:\n",
      "1. View available cars\n",
      "2. Rent cars\n",
      "3. Return cars\n",
      "4. Exit\n",
      "No cars to return.\n",
      "\n",
      "Options:\n",
      "1. View available cars\n",
      "2. Rent cars\n",
      "3. Return cars\n",
      "4. Exit\n",
      "Thank you for using the service!\n"
     ]
    }
   ],
   "source": [
    "from car_rental import CarRental, Customer\n",
    "\n",
    "def main():\n",
    "    # Initialize rental shop with 10 cars\n",
    "    shop = CarRental(10)\n",
    "    customer = Customer(shop)\n",
    "\n",
    "    while True:\n",
    "        print(\"\\nOptions:\")\n",
    "        print(\"1. View available cars\")\n",
    "        print(\"2. Rent cars\")\n",
    "        print(\"3. Return cars\")\n",
    "        print(\"4. Exit\")\n",
    "        choice = input(\"Enter your choice: \")\n",
    "\n",
    "        if choice == '1':\n",
    "            shop.display_available_cars()\n",
    "        elif choice == '2':\n",
    "            mode = input(\"Enter rental mode (hourly/daily/weekly): \").lower()\n",
    "            n_cars = int(input(\"Number of cars to rent: \"))\n",
    "            if customer.request_car(mode, n_cars):\n",
    "                print(\"Rental successful!\")\n",
    "            else:\n",
    "                print(\"Rental failed. Check availability or mode.\")\n",
    "        elif choice == '3':\n",
    "            bill = customer.return_car()\n",
    "            if bill > 0:\n",
    "                print(f\"Total bill: Rs. {bill}\")\n",
    "        elif choice == '4':\n",
    "            print(\"Thank you for using the service!\")\n",
    "            break\n",
    "        else:\n",
    "            print(\"Invalid choice. Try again.\")\n",
    "\n",
    "if __name__ == \"__main__\":\n",
    "    main()"
   ]
  }
 ],
 "metadata": {
  "kernelspec": {
   "display_name": "base",
   "language": "python",
   "name": "python3"
  },
  "language_info": {
   "codemirror_mode": {
    "name": "ipython",
    "version": 3
   },
   "file_extension": ".py",
   "mimetype": "text/x-python",
   "name": "python",
   "nbconvert_exporter": "python",
   "pygments_lexer": "ipython3",
   "version": "3.9.13"
  }
 },
 "nbformat": 4,
 "nbformat_minor": 5
}
